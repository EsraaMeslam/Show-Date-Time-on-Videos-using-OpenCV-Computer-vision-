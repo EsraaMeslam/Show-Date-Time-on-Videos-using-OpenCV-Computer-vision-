{
 "cells": [
  {
   "cell_type": "markdown",
   "id": "069e42b5",
   "metadata": {},
   "source": [
    "# Show Width,Height ,Date and Time on Videos "
   ]
  },
  {
   "cell_type": "code",
   "execution_count": 1,
   "id": "b0f9f637",
   "metadata": {},
   "outputs": [],
   "source": [
    "import cv2\n",
    "import datetime"
   ]
  },
  {
   "cell_type": "code",
   "execution_count": 2,
   "id": "0dc3360a",
   "metadata": {},
   "outputs": [
    {
     "name": "stdout",
     "output_type": "stream",
     "text": [
      "640.0\n",
      "480.0\n"
     ]
    }
   ],
   "source": [
    "cap=cv2.VideoCapture(0)# record video\n",
    "print(cap.get(cv2.CAP_PROP_FRAME_WIDTH)) #get default height\n",
    "print(cap.get(cv2.CAP_PROP_FRAME_HEIGHT))#get default width\n",
    "\n",
    "while(cap.isOpened()):\n",
    "    ret,window=cap.read()\n",
    "    if(ret==True):\n",
    "        \n",
    "        font=cv2.FONT_ITALIC #type of font\n",
    "        text='WIDTH: '+str(int(cap.get(3)))+' HEIGHT: '+str(int(cap.get(4)))\n",
    "        date_time=str(datetime.datetime.now())\n",
    "        window=cv2.putText(window,text,(20,50),font,1,(255,255,255),2) #(window,txt,postion,font,scale(zoom),color,thickness)\n",
    "        window=cv2.putText(window,date_time,(20,100),font,1,(255,255,255),2)\n",
    "#         window = cv2.flip(window, 1)\n",
    "        \n",
    "        cv2.imshow('Video with Width,height,Datetime',window)\n",
    "        \n",
    "        if(cv2.waitKey(1)==ord('q')):\n",
    "            break\n",
    "    else:\n",
    "        break\n",
    "cap.release()# close camera\n",
    "cv2.destroyAllWindows() #close all windows"
   ]
  },
  {
   "cell_type": "markdown",
   "id": "24a8f412",
   "metadata": {},
   "source": [
    "# Show Customized Width,Height ,Date and Time on Videos "
   ]
  },
  {
   "cell_type": "code",
   "execution_count": 3,
   "id": "cb8047d1",
   "metadata": {},
   "outputs": [
    {
     "name": "stdout",
     "output_type": "stream",
     "text": [
      "1280.0\n",
      "720.0\n"
     ]
    }
   ],
   "source": [
    "cap=cv2.VideoCapture(0)# record video\n",
    "\n",
    "cap.set(3,1500) # 3 refer to width , 1500 window's width\n",
    "cap.set(4,700) # 4 refer to height , 1500 window's height\n",
    "print(cap.get(3))\n",
    "print(cap.get(4))\n",
    "\n",
    "while(cap.isOpened()):\n",
    "    ret,window=cap.read()\n",
    "    if(ret==True):\n",
    "        \n",
    "        font=cv2.FONT_ITALIC #type of font\n",
    "        text='WIDTH: '+str(int(cap.get(3)))+' HEIGHT: '+str(int(cap.get(4)))\n",
    "        date_time=str(datetime.datetime.now())\n",
    "        window=cv2.putText(window,text,(20,50),font,1,(255,255,255),2) #(window,txt,postion,font,scale(zoom),color,thickness)\n",
    "        window=cv2.putText(window,date_time,(20,100),font,1,(255,255,255),2)\n",
    "#         window = cv2.flip(window, 1)\n",
    "        \n",
    "        cv2.imshow('Video with (customized Width,height),Datetime',window)\n",
    "        \n",
    "        if(cv2.waitKey(1)==ord('q')):\n",
    "            break\n",
    "    else:\n",
    "        break\n",
    "cap.release()# close camera\n",
    "cv2.destroyAllWindows() #close all windows"
   ]
  },
  {
   "cell_type": "markdown",
   "id": "f4666a6f",
   "metadata": {},
   "source": [
    "### Wish u luck\n",
    "### Esraa Meslam"
   ]
  }
 ],
 "metadata": {
  "kernelspec": {
   "display_name": "Python 3 (ipykernel)",
   "language": "python",
   "name": "python3"
  },
  "language_info": {
   "codemirror_mode": {
    "name": "ipython",
    "version": 3
   },
   "file_extension": ".py",
   "mimetype": "text/x-python",
   "name": "python",
   "nbconvert_exporter": "python",
   "pygments_lexer": "ipython3",
   "version": "3.10.9"
  }
 },
 "nbformat": 4,
 "nbformat_minor": 5
}
